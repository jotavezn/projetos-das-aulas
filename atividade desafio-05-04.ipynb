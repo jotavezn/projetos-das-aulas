{
 "cells": [
  {
   "cell_type": "code",
   "execution_count": 58,
   "metadata": {},
   "outputs": [
    {
     "name": "stdout",
     "output_type": "stream",
     "text": [
      "vou ficar em casa assistindo netflix.\n"
     ]
    }
   ],
   "source": [
    "#Preciso saber se vai fazer sol\n",
    "sol= input('está fazendo sol?')\n",
    "\n",
    "if (sol== 'sim' or sol== 'Sim'):\n",
    "    \n",
    "#se tiver sol, preciso de dinheiro pra ir à praia.\n",
    " dinheiro= input('você tem dinheiro?')\n",
    "\n",
    "#se estiver dinheiro e fazendo sol, vou para a praia.\n",
    " if (dinheiro== 'sim' or dinheiro== 'Sim'): print('irei à praia.')\n",
    "\n",
    "#caso contrário, ficar em casa será a melhor opção.\n",
    " else: print('vou ficar em casa assistindo netflix.')\n",
    "\n",
    "#se não estiver fazendo sol, não tem como ir à praia.\n",
    "else: print('vou ficar assistindo netflix.')\n",
    "     "
   ]
  }
 ],
 "metadata": {
  "kernelspec": {
   "display_name": "venv",
   "language": "python",
   "name": "python3"
  },
  "language_info": {
   "codemirror_mode": {
    "name": "ipython",
    "version": 3
   },
   "file_extension": ".py",
   "mimetype": "text/x-python",
   "name": "python",
   "nbconvert_exporter": "python",
   "pygments_lexer": "ipython3",
   "version": "3.10.8"
  }
 },
 "nbformat": 4,
 "nbformat_minor": 2
}
