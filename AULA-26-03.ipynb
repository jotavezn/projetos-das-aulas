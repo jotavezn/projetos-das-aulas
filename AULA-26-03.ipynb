{
 "cells": [
  {
   "cell_type": "code",
   "execution_count": 3,
   "metadata": {},
   "outputs": [],
   "source": [
    "valor1= int(input('Digite um número inteiro:'))\n",
    "valor2= int(input('Digite outro número inteiro:'))"
   ]
  },
  {
   "cell_type": "code",
   "execution_count": 4,
   "metadata": {},
   "outputs": [
    {
     "name": "stdout",
     "output_type": "stream",
     "text": [
      "False\n",
      "False\n",
      "True\n",
      "False\n",
      "True\n"
     ]
    }
   ],
   "source": [
    "print(valor1 == valor2)\n",
    "print(valor1 > valor2)\n",
    "print(valor1 < valor2)\n",
    "print(valor1 >= valor2)\n",
    "print(valor1 <= valor2)"
   ]
  },
  {
   "cell_type": "markdown",
   "metadata": {},
   "source": [
    "feito por mim"
   ]
  },
  {
   "cell_type": "code",
   "execution_count": 13,
   "metadata": {},
   "outputs": [
    {
     "name": "stdout",
     "output_type": "stream",
     "text": [
      "O número escolhido é ímpar.\n"
     ]
    }
   ],
   "source": [
    "valor= int(input('Digite um número inteiro:'))\n",
    "\n",
    "if valor %2== 0: print('O número escolhido é par.')\n",
    "\n",
    "else: print('O número escolhido é ímpar.')\n",
    "\n"
   ]
  },
  {
   "cell_type": "code",
   "execution_count": null,
   "metadata": {},
   "outputs": [],
   "source": []
  },
  {
   "cell_type": "markdown",
   "metadata": {},
   "source": [
    "feio por ia\n"
   ]
  },
  {
   "cell_type": "code",
   "execution_count": 8,
   "metadata": {},
   "outputs": [
    {
     "name": "stdout",
     "output_type": "stream",
     "text": [
      "O número 7 é Ímpar.\n"
     ]
    }
   ],
   "source": [
    "def verificar_par_impar(numero):\n",
    "    if numero % 2 == 0:\n",
    "        return \"Par\"\n",
    "    else:\n",
    "        return \"Ímpar\"\n",
    "\n",
    "try:\n",
    "    numero_digitado = int(input(\"Digite um número inteiro: \"))\n",
    "    resultado = verificar_par_impar(numero_digitado)\n",
    "    print(f\"O número {numero_digitado} é {resultado}.\")\n",
    "except ValueError:\n",
    "    print(\"Entrada inválida. Por favor, digite um número inteiro.\")\n",
    "    "
   ]
  },
  {
   "cell_type": "code",
   "execution_count": 14,
   "metadata": {},
   "outputs": [
    {
     "name": "stdout",
     "output_type": "stream",
     "text": [
      "Parabéns! Você ganhou 10% de desconto nos nossos produtos.\n"
     ]
    }
   ],
   "source": [
    "cupom = input('CUPOM DE DESCONTO:')\n",
    "if(cupom == 'JOAO10' or cupom == 'MATEUS10'):\n",
    "    print('Parabéns! Você ganhou 10% de desconto nos nossos produtos.')"
   ]
  },
  {
   "cell_type": "code",
   "execution_count": 16,
   "metadata": {},
   "outputs": [
    {
     "name": "stdout",
     "output_type": "stream",
     "text": [
      "Você Ganhou 5% de desconto nos nossos produtos.\n"
     ]
    }
   ],
   "source": [
    "cupom = input('CUPOM DE DESCONTO:')\n",
    "if(cupom == 'JOAO10' or cupom == 'MATEUS10'):\n",
    "    print('Parabéns! Você ganhou 10% de desconto nos nossos produtos.')\n",
    "\n",
    "else: print('Você Ganhou 5% de desconto nos nossos produtos.')"
   ]
  },
  {
   "cell_type": "code",
   "execution_count": 19,
   "metadata": {},
   "outputs": [
    {
     "name": "stdout",
     "output_type": "stream",
     "text": [
      "Parabéns! Você ganhou 15% de desconto nos nossos produtos.\n"
     ]
    }
   ],
   "source": [
    "cupom = input('CUPOM DE DESCONTO:')\n",
    "if(cupom == 'JOAO10' or cupom == 'MATEUS10'):\n",
    "    print('Parabéns! Você ganhou 10% de desconto nos nossos produtos.')\n",
    "\n",
    "elif(cupom == 'JOTAVE15' or cupom == 'MATT15'): print('Parabéns! Você ganhou 15% de desconto nos nossos produtos.')\n",
    "\n",
    "else: print('Você Ganhou 5% de desconto nos nossos produtos.')"
   ]
  },
  {
   "cell_type": "code",
   "execution_count": 25,
   "metadata": {},
   "outputs": [],
   "source": [
    "cupom = input('CUPOM DE DESCONTO:')\n",
    "if(cupom == 'MOTO5' or cupom == 'VIAGEMBARATA'):\n",
    "    print('Parabéns! Você ganhou 5 reais de desconto na sua próxima viagem de moto.')\n",
    "\n",
    "elif(cupom == 'BEMVINDO20' or cupom == 'NOVACONTA'): print('Parabéns! Você ganhou 20% de desconto na sua primeira viagem do App.')\n",
    "\n",
    "else: print('Você Ganhou 3 reais de desconto na sua próxima viagem de moto.')"
   ]
  }
 ],
 "metadata": {
  "kernelspec": {
   "display_name": "Python 3",
   "language": "python",
   "name": "python3"
  },
  "language_info": {
   "codemirror_mode": {
    "name": "ipython",
    "version": 3
   },
   "file_extension": ".py",
   "mimetype": "text/x-python",
   "name": "python",
   "nbconvert_exporter": "python",
   "pygments_lexer": "ipython3",
   "version": "3.10.8"
  }
 },
 "nbformat": 4,
 "nbformat_minor": 2
}
