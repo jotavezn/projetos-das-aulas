{
 "cells": [
  {
   "cell_type": "code",
   "execution_count": null,
   "metadata": {},
   "outputs": [],
   "source": []
  },
  {
   "cell_type": "code",
   "execution_count": 1,
   "metadata": {},
   "outputs": [
    {
     "name": "stdout",
     "output_type": "stream",
     "text": [
      "valor_int\n"
     ]
    }
   ],
   "source": [
    "valor_int= int(input('Digite um número:'))\n",
    "print('valor_int')"
   ]
  },
  {
   "cell_type": "code",
   "execution_count": 5,
   "metadata": {},
   "outputs": [
    {
     "name": "stdout",
     "output_type": "stream",
     "text": [
      "A soma dos valores é: 68\n"
     ]
    }
   ],
   "source": [
    "num1= int(input('Digite um número:'))\n",
    "num2= int(input('Digite outro número:'))\n",
    "\n",
    "resultado= num1+num2\n",
    "\n",
    "print('A soma dos valores é:', resultado)"
   ]
  },
  {
   "cell_type": "code",
   "execution_count": 10,
   "metadata": {},
   "outputs": [
    {
     "name": "stdout",
     "output_type": "stream",
     "text": [
      "A média dos valores é: 7.566666666666666\n"
     ]
    }
   ],
   "source": [
    "valor1= float(input(\"Digite um número: \"))\n",
    "valor2= float(input(\"Digite um número: \"))\n",
    "valor3= float(input(\"Digite um número: \"))\n",
    "média= (valor1+valor2+valor3)/ 3\n",
    "\n",
    "print(\"A média dos valores é:\", média)"
   ]
  },
  {
   "cell_type": "code",
   "execution_count": 12,
   "metadata": {},
   "outputs": [
    {
     "name": "stdout",
     "output_type": "stream",
     "text": [
      "você ganha: 4800.0\n"
     ]
    }
   ],
   "source": [
    "valorHora= float(input('Informe o valor recebido por hora:'))\n",
    "valorHoraMes= int(input('Quantas horas você trabalha por mês:'))\n",
    "\n",
    "resultado= valorHora* valorHoraMes\n",
    "print('você ganha:', resultado)"
   ]
  },
  {
   "cell_type": "code",
   "execution_count": 28,
   "metadata": {},
   "outputs": [
    {
     "name": "stdout",
     "output_type": "stream",
     "text": [
      "Você pagará uma multa no valor total de: 60.0\n"
     ]
    }
   ],
   "source": [
    "#Se o peixe for maior que 50kg, será pago 4 reais por quilo excedente.\n",
    "\n",
    "peixePeso= float(input('Informe o peso resultante da pesca:'))\n",
    "\n",
    "multa= 4;\n",
    "\n",
    "#se o peso for maior que 50, será pago uma multa.\n",
    "if peixePeso > 50:\n",
    "\n",
    " print('Você pagará uma multa no valor total de:', multa* (peixePeso - 50))\n",
    "#caso não ultrapasse de 50, não pagará multa.\n",
    "else:\n",
    " print('Você não pagará multa.')"
   ]
  }
 ],
 "metadata": {
  "kernelspec": {
   "display_name": "Python 3",
   "language": "python",
   "name": "python3"
  },
  "language_info": {
   "codemirror_mode": {
    "name": "ipython",
    "version": 3
   },
   "file_extension": ".py",
   "mimetype": "text/x-python",
   "name": "python",
   "nbconvert_exporter": "python",
   "pygments_lexer": "ipython3",
   "version": "3.10.8"
  }
 },
 "nbformat": 4,
 "nbformat_minor": 2
}
