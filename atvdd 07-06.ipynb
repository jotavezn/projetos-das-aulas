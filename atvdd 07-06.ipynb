{
 "cells": [
  {
   "cell_type": "code",
   "execution_count": 1,
   "metadata": {},
   "outputs": [],
   "source": [
    "def funcaoLeitura():\n",
    "    for num in [1,2,3,4,5]:\n",
    "        print(\"Numero \", num)"
   ]
  },
  {
   "cell_type": "code",
   "execution_count": 2,
   "metadata": {},
   "outputs": [],
   "source": [
    "def funcaoLeitura():\n",
    "    for num in range(S):\n",
    "      print(\"Numero \", num)"
   ]
  },
  {
   "cell_type": "code",
   "execution_count": 3,
   "metadata": {},
   "outputs": [],
   "source": [
    "def addNum(n1, n2):\n",
    "    print(\"O primeiro numero é:\", n1)\n",
    "    print(\"O segundo numero é: \", n2)\n",
    "    print(\"A soma numero é: \", n1+n2)"
   ]
  },
  {
   "cell_type": "code",
   "execution_count": 4,
   "metadata": {},
   "outputs": [
    {
     "name": "stdout",
     "output_type": "stream",
     "text": [
      "O primeiro numero é: 2\n",
      "O segundo numero é:  3\n",
      "A soma numero é:  5\n"
     ]
    }
   ],
   "source": [
    "addNum(2, 3)"
   ]
  },
  {
   "cell_type": "code",
   "execution_count": 5,
   "metadata": {},
   "outputs": [
    {
     "name": "stdout",
     "output_type": "stream",
     "text": [
      "O primeiro numero é: 4\n",
      "O segundo numero é:  3\n",
      "A soma numero é:  7\n"
     ]
    }
   ],
   "source": [
    "addNum(4, 3)"
   ]
  },
  {
   "cell_type": "code",
   "execution_count": 6,
   "metadata": {},
   "outputs": [
    {
     "name": "stdout",
     "output_type": "stream",
     "text": [
      "Variavel da função Multiplica:  20\n",
      "10\n"
     ]
    }
   ],
   "source": [
    "varGlobal=10\n",
    "def multiplicacao(num1, num2):\n",
    "    varGlobal=(num1 * num2)\n",
    "    print(\"Variavel da função Multiplica: \", varGlobal)\n",
    "multiplicacao(5, 4)\n",
    "print(varGlobal)"
   ]
  },
  {
   "cell_type": "code",
   "execution_count": 8,
   "metadata": {},
   "outputs": [],
   "source": [
    "varGlobal=10\n",
    "def multiplicacao(num1, num2):\n",
    "    varLocal=(num1 * num2)\n",
    "    print(\"Variavel da função Multiplica: \", varLocal)\n",
    "    print(varLocal)"
   ]
  },
  {
   "cell_type": "code",
   "execution_count": 9,
   "metadata": {},
   "outputs": [],
   "source": [
    "def separarTexto(texto):\n",
    "    return texto.split()"
   ]
  },
  {
   "cell_type": "code",
   "execution_count": 10,
   "metadata": {},
   "outputs": [
    {
     "data": {
      "text/plain": [
       "['Cibele', 'Maria', 'Suely']"
      ]
     },
     "execution_count": 10,
     "metadata": {},
     "output_type": "execute_result"
    }
   ],
   "source": [
    "separarTexto(\"Cibele Maria Suely\")"
   ]
  },
  {
   "cell_type": "code",
   "execution_count": 31,
   "metadata": {},
   "outputs": [],
   "source": [
    "def variosParametros(*parametros):\n",
    "       for n, item in enumerate(parametros):\n",
    "           print(\"Parametro\", n, item)\n",
    "       return"
   ]
  },
  {
   "cell_type": "code",
   "execution_count": 12,
   "metadata": {},
   "outputs": [
    {
     "name": "stdout",
     "output_type": "stream",
     "text": [
      "Parametro 0 Cibele\n"
     ]
    }
   ],
   "source": [
    "variosParametros(\"Cibele\", \"Suely\", \"Giggio\", \"Mada\", \"Luquinhas\")"
   ]
  },
  {
   "cell_type": "code",
   "execution_count": 32,
   "metadata": {},
   "outputs": [
    {
     "name": "stdout",
     "output_type": "stream",
     "text": [
      "Parametro 0 pitomba\n",
      "Parametro 1 jambo\n",
      "Parametro 2 siriguela\n",
      "Parametro 3 umbu\n"
     ]
    }
   ],
   "source": [
    "variosParametros(\"pitomba\", \"jambo\", \"siriguela\", \"umbu\")"
   ]
  },
  {
   "cell_type": "code",
   "execution_count": 34,
   "metadata": {},
   "outputs": [],
   "source": [
    "def soma(n1, n2):\n",
    "    return n1+n2\n",
    "def subtrai(n1, n2):\n",
    "    return n1-n2\n",
    "def divide(n1, n2):\n",
    "    return n1/n2\n",
    "def multiplica(n1, n2):\n",
    "    return n1*n2"
   ]
  },
  {
   "cell_type": "code",
   "execution_count": 48,
   "metadata": {},
   "outputs": [
    {
     "name": "stdout",
     "output_type": "stream",
     "text": [
      "+=================+\n",
      "| MENU DE OPERAÇÕES\n",
      "| 1 - somar        \n",
      "| 2 - subritrair   \n",
      "| 3 - multiplicar  \n",
      "| 4 - dividir      \n",
      "| 0 - sair         \n",
      "+=================+\n",
      "o resultado da divisão é: 16.5\n",
      "+=================+\n",
      "| MENU DE OPERAÇÕES\n",
      "| 1 - somar        \n",
      "| 2 - subritrair   \n",
      "| 3 - multiplicar  \n",
      "| 4 - dividir      \n",
      "| 0 - sair         \n",
      "+=================+\n"
     ]
    }
   ],
   "source": [
    "while True:\n",
    "    print(\"+=================+\")\n",
    "    print(\"| MENU DE OPERAÇÕES\")\n",
    "    print(\"| 1 - somar        \")\n",
    "    print(\"| 2 - subritrair   \")\n",
    "    print(\"| 3 - multiplicar  \")\n",
    "    print(\"| 4 - dividir      \")\n",
    "    print(\"| 0 - sair         \")\n",
    "    print(\"+=================+\")\n",
    "    op = int(input())\n",
    "    if op==0:\n",
    "        break\n",
    "\n",
    "    n1 = int(input('Primeiro número:'))\n",
    "    n2 = int(input('Segundo número:'))\n",
    "\n",
    "    if op==1:\n",
    "        print('o resultado da soma é:', soma(n1, n2))\n",
    "    elif op==2:\n",
    "        print('o resultado da subtração é:', subtrai(n1, n2))\n",
    "    elif op==3:\n",
    "        print('o resultado da multiplicação é:', multiplica(n1, n2))\n",
    "    elif op==4:\n",
    "        print('o resultado da divisão é:', divide(n1, n2))\n",
    "    elif op==5:\n",
    "        break\n"
   ]
  },
  {
   "cell_type": "code",
   "execution_count": null,
   "metadata": {},
   "outputs": [],
   "source": []
  }
 ],
 "metadata": {
  "kernelspec": {
   "display_name": "Python 3",
   "language": "python",
   "name": "python3"
  },
  "language_info": {
   "codemirror_mode": {
    "name": "ipython",
    "version": 3
   },
   "file_extension": ".py",
   "mimetype": "text/x-python",
   "name": "python",
   "nbconvert_exporter": "python",
   "pygments_lexer": "ipython3",
   "version": "3.10.2"
  }
 },
 "nbformat": 4,
 "nbformat_minor": 2
}
