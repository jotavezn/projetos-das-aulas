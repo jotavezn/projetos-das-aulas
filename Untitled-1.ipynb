{
 "cells": [
  {
   "cell_type": "code",
   "execution_count": 8,
   "metadata": {},
   "outputs": [
    {
     "name": "stdout",
     "output_type": "stream",
     "text": [
      "Melhor do mundo\n",
      "Cristiano Ronaldo 39 adulto\n"
     ]
    }
   ],
   "source": [
    "print('Melhor do mundo')\n",
    "idade = 39\n",
    "nome = 'Cristiano Ronaldo'\n",
    "if idade >=18 :print(nome, idade, 'adulto')\n",
    "if idade <18 :print(nome, idade, 'criança')\n"
   ]
  },
  {
   "cell_type": "code",
   "execution_count": 9,
   "metadata": {},
   "outputs": [
    {
     "name": "stdout",
     "output_type": "stream",
     "text": [
      "Queridinho da FIFA\n",
      "Leo Messi 36 adulto\n"
     ]
    }
   ],
   "source": [
    "print('Queridinho da FIFA')\n",
    "idade = 36\n",
    "nome = 'Leo Messi'\n",
    "if idade >=18 :print(nome, idade, 'adulto')\n",
    "if idade <18 :print(nome, idade, 'criança')"
   ]
  },
  {
   "cell_type": "code",
   "execution_count": 11,
   "metadata": {},
   "outputs": [],
   "source": [
    "pessoa= 'jv'\n",
    "idade= 20\n",
    "altura= 1.73\n",
    "dev= True\n"
   ]
  },
  {
   "cell_type": "code",
   "execution_count": null,
   "metadata": {},
   "outputs": [],
   "source": []
  }
 ],
 "metadata": {
  "kernelspec": {
   "display_name": "Python 3",
   "language": "python",
   "name": "python3"
  },
  "language_info": {
   "codemirror_mode": {
    "name": "ipython",
    "version": 3
   },
   "file_extension": ".py",
   "mimetype": "text/x-python",
   "name": "python",
   "nbconvert_exporter": "python",
   "pygments_lexer": "ipython3",
   "version": "3.10.2"
  }
 },
 "nbformat": 4,
 "nbformat_minor": 2
}
