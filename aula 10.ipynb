{
 "cells": [
  {
   "cell_type": "code",
   "execution_count": 4,
   "metadata": {},
   "outputs": [
    {
     "name": "stdout",
     "output_type": "stream",
     "text": [
      "5 patinhos foram passear, além das montanhas para brincar. A mamãe gritou quá quá quá quá, mas só 4 voltaram de lá\n",
      "4 patinhos foram passear, além das montanhas para brincar. A mamãe gritou quá quá quá quá, mas só 3 voltaram de lá\n",
      "3 patinhos foram passear, além das montanhas para brincar. A mamãe gritou quá quá quá quá, mas só 2 voltaram de lá\n",
      "2 patinhos foram passear, além das montanhas para brincar. A mamãe gritou quá quá quá quá, mas só 1 voltaram de lá\n",
      "1 patinhos foram passear, além das montanhas para brincar. A mamãe gritou quá quá quá quá, mas só 0 voltaram de lá\n"
     ]
    }
   ],
   "source": [
    "n = 5\n",
    "for n in[5,4,3,2,1]:\n",
    "    print (n, \"patinhos foram passear, além das montanhas para brincar. A mamãe gritou quá quá quá quá, mas só\", n-1, \"voltaram de lá\")"
   ]
  },
  {
   "cell_type": "code",
   "execution_count": 9,
   "metadata": {},
   "outputs": [
    {
     "name": "stdout",
     "output_type": "stream",
     "text": [
      "Tabuada de 5:\n",
      "5 x 1 = 5\n",
      "5 x 2 = 10\n",
      "5 x 3 = 15\n",
      "5 x 4 = 20\n",
      "5 x 5 = 25\n",
      "5 x 6 = 30\n",
      "5 x 7 = 35\n",
      "5 x 8 = 40\n",
      "5 x 9 = 45\n",
      "5 x 10 = 50\n"
     ]
    }
   ],
   "source": [
    "numero = int(input(\"Digite um número para ver a tabuada: \"))\n",
    "print(f\"Tabuada de {numero}:\")\n",
    "for i in range(1, 11):\n",
    "    resultado = numero * i\n",
    "    print(f\"{numero} x {i} = {resultado}\")"
   ]
  },
  {
   "cell_type": "code",
   "execution_count": null,
   "metadata": {},
   "outputs": [],
   "source": []
  }
 ],
 "metadata": {
  "kernelspec": {
   "display_name": "Python 3",
   "language": "python",
   "name": "python3"
  },
  "language_info": {
   "codemirror_mode": {
    "name": "ipython",
    "version": 3
   },
   "file_extension": ".py",
   "mimetype": "text/x-python",
   "name": "python",
   "nbconvert_exporter": "python",
   "pygments_lexer": "ipython3",
   "version": "3.10.2"
  }
 },
 "nbformat": 4,
 "nbformat_minor": 2
}
